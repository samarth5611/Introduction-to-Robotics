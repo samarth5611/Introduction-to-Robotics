{
  "nbformat": 4,
  "nbformat_minor": 0,
  "metadata": {
    "colab": {
      "name": "3_linkManipulator.ipynb",
      "provenance": [],
      "collapsed_sections": [],
      "include_colab_link": true
    },
    "kernelspec": {
      "display_name": "Python 3",
      "language": "python",
      "name": "python3"
    },
    "language_info": {
      "codemirror_mode": {
        "name": "ipython",
        "version": 3
      },
      "file_extension": ".py",
      "mimetype": "text/x-python",
      "name": "python",
      "nbconvert_exporter": "python",
      "pygments_lexer": "ipython3",
      "version": "3.8.5"
    }
  },
  "cells": [
    {
      "cell_type": "markdown",
      "metadata": {
        "id": "view-in-github",
        "colab_type": "text"
      },
      "source": [
        "<a href=\"https://colab.research.google.com/github/samartha5611/Introduction-to-Robotics/blob/main/3_linkManipulator.ipynb\" target=\"_parent\"><img src=\"https://colab.research.google.com/assets/colab-badge.svg\" alt=\"Open In Colab\"/></a>"
      ]
    },
    {
      "cell_type": "code",
      "metadata": {
        "colab": {
          "base_uri": "https://localhost:8080/"
        },
        "id": "-wmohz6ymdp2",
        "outputId": "c30ea71e-dda3-4961-8cbd-6660bfcd6d27"
      },
      "source": [
        "import math as m\n",
        "import random\n",
        "import csv\n",
        "import matplotlib.pyplot as plt\n",
        "import pandas as pd\n",
        "from sklearn.model_selection import train_test_split\n",
        "import tensorflow.compat.v1 as tf\n",
        "tf.disable_v2_behavior()\n",
        "import keras\n",
        "from keras.models import Sequential\n",
        "from keras.layers import Dense\n",
        "from keras import regularizers\n",
        "import numpy as np\n",
        "import statsmodels.regression.linear_model as sm\n",
        "\n",
        "# length of manipulators\n",
        "l1 = l2 = l3 = 7"
      ],
      "execution_count": null,
      "outputs": [
        {
          "output_type": "stream",
          "text": [
            "WARNING:tensorflow:From /usr/local/lib/python3.7/dist-packages/tensorflow/python/compat/v2_compat.py:96: disable_resource_variables (from tensorflow.python.ops.variable_scope) is deprecated and will be removed in a future version.\n",
            "Instructions for updating:\n",
            "non-resource variables are not supported in the long term\n"
          ],
          "name": "stdout"
        },
        {
          "output_type": "stream",
          "text": [
            "/usr/local/lib/python3.7/dist-packages/statsmodels/tools/_testing.py:19: FutureWarning: pandas.util.testing is deprecated. Use the functions in the public API at pandas.testing instead.\n",
            "  import pandas.util.testing as tm\n"
          ],
          "name": "stderr"
        }
      ]
    },
    {
      "cell_type": "code",
      "metadata": {
        "id": "DbflvrjYr2Y3"
      },
      "source": [
        "## Generating dataset for training of 3 link manipulator\n",
        "def threeLinkManipulatorFile():\n",
        "    with open('threeLink.csv', 'w') as csvFile:\n",
        "        row = ['q1','q2','q3','xe','ye','thetae']\n",
        "        csv.writer(csvFile).writerow(row)\n",
        "        for i in range(1, 100000):\n",
        "            \n",
        "            q1 = round(random.uniform(0,m.pi),2)\n",
        "            q2= round(random.uniform(-m.pi, 0),2)\n",
        "            q3= round(random.uniform(-m.pi/2,m.pi/2))\n",
        "            \n",
        "            thetae=round(m.degrees(q1)+m.degrees(q2)+m.degrees(q3),2)\n",
        "            xe= round(l1*m.cos(q1)+ l2*m.cos(q1+q2)+ l3*m.cos(q1+q2+q3),2)\n",
        "            ye= round(l1*m.sin(q1)+ l2*m.sin(q1+q2)+ l3*m.sin(q1+q2+q3),2)\n",
        "            \n",
        "            \n",
        "            row = [q1,q2,q3,xe,ye,thetae]\n",
        "            csv.writer(csvFile).writerow(row)\n",
        "                \n",
        "    csvFile.close()\n",
        "    \n",
        "threeLinkManipulatorFile()"
      ],
      "execution_count": null,
      "outputs": []
    },
    {
      "cell_type": "markdown",
      "metadata": {
        "id": "A_NMq0HOcxck"
      },
      "source": [
        ""
      ]
    },
    {
      "cell_type": "code",
      "metadata": {
        "id": "NlprkEPUcx8h"
      },
      "source": [
        ""
      ],
      "execution_count": null,
      "outputs": []
    },
    {
      "cell_type": "code",
      "metadata": {
        "colab": {
          "base_uri": "https://localhost:8080/",
          "height": 1000
        },
        "id": "x8umT7E2nIIA",
        "outputId": "4507de91-94d5-4ce6-feab-d1f3e65ca79e"
      },
      "source": [
        "## Visualising generated dataset\n",
        "data=pd.read_csv('threeLink.csv')\n",
        "print(data.shape)\n",
        "plt.scatter(data['xe'],data['ye'])\n",
        "plt.show()\n",
        "\n",
        "# splitting training and testing dataset\n",
        "\n",
        "##training data for inverse kinematics\n",
        "x = data.iloc[:,3:].values\n",
        "y =data.iloc[:,0:3].values\n",
        "x_train,x_test,y_train,y_test = train_test_split(x,y,test_size=0.15)\n",
        "\n",
        "#model\n",
        "classifier = Sequential()\n",
        "classifier.add(Dense(units = 3,input_dim = 3,kernel_initializer = 'uniform'))\n",
        "#classifier.add(keras.layers.Dropout(0.2))\n",
        "classifier.add(Dense(units = 100,kernel_initializer = 'uniform',activation = 'relu'))\n",
        "#classifier.add(keras.layers.Dropout(0.2))\n",
        "classifier.add(Dense(units = 3,kernel_initializer = 'uniform',activation='linear'))\n",
        "classifier.compile(optimizer='adam',loss=tf.keras.losses.MeanSquaredError(),metrics=['accuracy'])\n",
        "\n",
        "#training model\n",
        "history=classifier.fit(x_train,y_train ,epochs=50, validation_split=0.1, shuffle=True)\n",
        "\n",
        "#Evaluating model on testing data \n",
        "print('Testing the model:\\n')\n",
        "test_loss, test_acc = classifier.evaluate(x_test, y_test)\n",
        "\n",
        "print('\\nTesting Loss = ', test_loss) \n",
        "print('Testing Accuracy = ', test_acc)\n"
      ],
      "execution_count": null,
      "outputs": [
        {
          "output_type": "stream",
          "text": [
            "(99999, 6)\n"
          ],
          "name": "stdout"
        },
        {
          "output_type": "display_data",
          "data": {
            "image/png": "[encoded data removed]",
            "text/plain": [
              "<Figure size 432x288 with 1 Axes>"
            ]
          },
          "metadata": {
            "tags": [],
            "needs_background": "light"
          }
        },
        {
          "output_type": "stream",
          "text": [
            "WARNING:tensorflow:From /home/pranav/.local/lib/python3.8/site-packages/tensorflow/python/keras/initializers/initializers_v1.py:58: calling RandomUniform.__init__ (from tensorflow.python.ops.init_ops) with dtype is deprecated and will be removed in a future version.\n",
            "Instructions for updating:\n",
            "Call initializer instance with the dtype argument instead of passing it to the constructor\n",
            "Train on 76499 samples, validate on 8500 samples\n",
            "Epoch 1/50\n",
            "76499/76499 [==============================] - 2s 29us/sample - loss: 0.2324 - acc: 0.9193 - val_loss: 0.0661 - val_acc: 0.9312\n",
            "Epoch 2/50\n",
            "   32/76499 [..............................] - ETA: 13s - loss: 0.0616 - acc: 0.9375"
          ],
          "name": "stdout"
        },
        {
          "output_type": "stream",
          "text": [
            "/home/pranav/.local/lib/python3.8/site-packages/tensorflow/python/keras/engine/training.py:2325: UserWarning: `Model.state_updates` will be removed in a future version. This property should not be used in TensorFlow 2.0, as `updates` are applied automatically.\n",
            "  warnings.warn('`Model.state_updates` will be removed in a future version. '\n"
          ],
          "name": "stderr"
        },
        {
          "output_type": "stream",
          "text": [
            "76499/76499 [==============================] - 2s 27us/sample - loss: 0.0579 - acc: 0.9353 - val_loss: 0.0478 - val_acc: 0.9431\n",
            "Epoch 3/50\n",
            "76499/76499 [==============================] - 2s 28us/sample - loss: 0.0466 - acc: 0.9432 - val_loss: 0.0411 - val_acc: 0.9480\n",
            "Epoch 4/50\n",
            "76499/76499 [==============================] - 2s 28us/sample - loss: 0.0408 - acc: 0.9514 - val_loss: 0.0371 - val_acc: 0.9576\n",
            "Epoch 5/50\n",
            "76499/76499 [==============================] - 2s 26us/sample - loss: 0.0367 - acc: 0.9589 - val_loss: 0.0319 - val_acc: 0.9639\n",
            "Epoch 6/50\n",
            "76499/76499 [==============================] - 2s 25us/sample - loss: 0.0338 - acc: 0.9620 - val_loss: 0.0308 - val_acc: 0.9612\n",
            "Epoch 7/50\n",
            "76499/76499 [==============================] - 2s 26us/sample - loss: 0.0317 - acc: 0.9640 - val_loss: 0.0290 - val_acc: 0.9635\n",
            "Epoch 8/50\n",
            "76499/76499 [==============================] - 2s 25us/sample - loss: 0.0296 - acc: 0.9664 - val_loss: 0.0303 - val_acc: 0.9696\n",
            "Epoch 9/50\n",
            "76499/76499 [==============================] - 2s 27us/sample - loss: 0.0284 - acc: 0.9670 - val_loss: 0.0244 - val_acc: 0.9666\n",
            "Epoch 10/50\n",
            "76499/76499 [==============================] - 2s 26us/sample - loss: 0.0273 - acc: 0.9678 - val_loss: 0.0255 - val_acc: 0.9682\n",
            "Epoch 11/50\n",
            "76499/76499 [==============================] - 2s 27us/sample - loss: 0.0258 - acc: 0.9686 - val_loss: 0.0263 - val_acc: 0.9764\n",
            "Epoch 12/50\n",
            "76499/76499 [==============================] - 2s 26us/sample - loss: 0.0253 - acc: 0.9698 - val_loss: 0.0284 - val_acc: 0.9740\n",
            "Epoch 13/50\n",
            "76499/76499 [==============================] - 2s 26us/sample - loss: 0.0244 - acc: 0.9702 - val_loss: 0.0317 - val_acc: 0.9715\n",
            "Epoch 14/50\n",
            "76499/76499 [==============================] - 2s 26us/sample - loss: 0.0233 - acc: 0.9713 - val_loss: 0.0245 - val_acc: 0.9648\n",
            "Epoch 15/50\n",
            "76499/76499 [==============================] - 2s 26us/sample - loss: 0.0223 - acc: 0.9719 - val_loss: 0.0193 - val_acc: 0.9751\n",
            "Epoch 16/50\n",
            "76499/76499 [==============================] - 2s 27us/sample - loss: 0.0224 - acc: 0.9729 - val_loss: 0.0214 - val_acc: 0.9756\n",
            "Epoch 17/50\n",
            "76499/76499 [==============================] - 2s 28us/sample - loss: 0.0217 - acc: 0.9732 - val_loss: 0.0201 - val_acc: 0.9780\n",
            "Epoch 18/50\n",
            "76499/76499 [==============================] - 2s 27us/sample - loss: 0.0212 - acc: 0.9740 - val_loss: 0.0185 - val_acc: 0.9719\n",
            "Epoch 19/50\n",
            "76499/76499 [==============================] - 2s 28us/sample - loss: 0.0209 - acc: 0.9743 - val_loss: 0.0252 - val_acc: 0.9741\n",
            "Epoch 20/50\n",
            "76499/76499 [==============================] - 2s 28us/sample - loss: 0.0205 - acc: 0.9741 - val_loss: 0.0184 - val_acc: 0.9731\n",
            "Epoch 21/50\n",
            "76499/76499 [==============================] - 2s 27us/sample - loss: 0.0202 - acc: 0.9737 - val_loss: 0.0221 - val_acc: 0.9716\n",
            "Epoch 22/50\n",
            "76499/76499 [==============================] - 2s 28us/sample - loss: 0.0203 - acc: 0.9743 - val_loss: 0.0217 - val_acc: 0.9629\n",
            "Epoch 23/50\n",
            "76499/76499 [==============================] - 2s 29us/sample - loss: 0.0202 - acc: 0.9748 - val_loss: 0.0258 - val_acc: 0.9746\n",
            "Epoch 24/50\n",
            "76499/76499 [==============================] - 2s 26us/sample - loss: 0.0200 - acc: 0.9736 - val_loss: 0.0186 - val_acc: 0.9686\n",
            "Epoch 25/50\n",
            "76499/76499 [==============================] - 2s 26us/sample - loss: 0.0199 - acc: 0.9743 - val_loss: 0.0214 - val_acc: 0.9779\n",
            "Epoch 26/50\n",
            "76499/76499 [==============================] - 2s 28us/sample - loss: 0.0195 - acc: 0.9743 - val_loss: 0.0170 - val_acc: 0.9716\n",
            "Epoch 27/50\n",
            "76499/76499 [==============================] - 2s 29us/sample - loss: 0.0193 - acc: 0.9742 - val_loss: 0.0188 - val_acc: 0.9711\n",
            "Epoch 28/50\n",
            "76499/76499 [==============================] - 2s 28us/sample - loss: 0.0193 - acc: 0.9737 - val_loss: 0.0192 - val_acc: 0.9642\n",
            "Epoch 29/50\n",
            "76499/76499 [==============================] - 2s 27us/sample - loss: 0.0193 - acc: 0.9743 - val_loss: 0.0186 - val_acc: 0.9807\n",
            "Epoch 30/50\n",
            "76499/76499 [==============================] - 2s 28us/sample - loss: 0.0193 - acc: 0.9744 - val_loss: 0.0189 - val_acc: 0.9656\n",
            "Epoch 31/50\n",
            "76499/76499 [==============================] - 2s 28us/sample - loss: 0.0191 - acc: 0.9741 - val_loss: 0.0163 - val_acc: 0.9745\n",
            "Epoch 32/50\n",
            "76499/76499 [==============================] - 2s 28us/sample - loss: 0.0188 - acc: 0.9743 - val_loss: 0.0175 - val_acc: 0.9726\n",
            "Epoch 33/50\n",
            "76499/76499 [==============================] - 2s 28us/sample - loss: 0.0188 - acc: 0.9744 - val_loss: 0.0219 - val_acc: 0.9801\n",
            "Epoch 34/50\n",
            "76499/76499 [==============================] - 2s 28us/sample - loss: 0.0189 - acc: 0.9742 - val_loss: 0.0207 - val_acc: 0.9728\n",
            "Epoch 35/50\n",
            "76499/76499 [==============================] - 2s 28us/sample - loss: 0.0185 - acc: 0.9749 - val_loss: 0.0173 - val_acc: 0.9791\n",
            "Epoch 36/50\n",
            "76499/76499 [==============================] - 2s 29us/sample - loss: 0.0188 - acc: 0.9749 - val_loss: 0.0162 - val_acc: 0.9818\n",
            "Epoch 37/50\n",
            "76499/76499 [==============================] - 2s 27us/sample - loss: 0.0185 - acc: 0.9754 - val_loss: 0.0179 - val_acc: 0.9736\n",
            "Epoch 38/50\n",
            "76499/76499 [==============================] - 2s 29us/sample - loss: 0.0185 - acc: 0.9749 - val_loss: 0.0165 - val_acc: 0.9769\n",
            "Epoch 39/50\n",
            "76499/76499 [==============================] - 2s 28us/sample - loss: 0.0184 - acc: 0.9748 - val_loss: 0.0191 - val_acc: 0.9735\n",
            "Epoch 40/50\n",
            "76499/76499 [==============================] - 2s 27us/sample - loss: 0.0182 - acc: 0.9755 - val_loss: 0.0166 - val_acc: 0.9701\n",
            "Epoch 41/50\n",
            "76499/76499 [==============================] - 2s 28us/sample - loss: 0.0183 - acc: 0.9751 - val_loss: 0.0186 - val_acc: 0.9832\n",
            "Epoch 42/50\n",
            "76499/76499 [==============================] - 2s 27us/sample - loss: 0.0183 - acc: 0.9753 - val_loss: 0.0186 - val_acc: 0.9784\n",
            "Epoch 43/50\n",
            "76499/76499 [==============================] - 2s 28us/sample - loss: 0.0181 - acc: 0.9747 - val_loss: 0.0186 - val_acc: 0.9682\n",
            "Epoch 44/50\n",
            "76499/76499 [==============================] - 2s 28us/sample - loss: 0.0179 - acc: 0.9751 - val_loss: 0.0153 - val_acc: 0.9702\n",
            "Epoch 45/50\n",
            "76499/76499 [==============================] - 2s 28us/sample - loss: 0.0179 - acc: 0.9750 - val_loss: 0.0161 - val_acc: 0.9756\n",
            "Epoch 46/50\n",
            "76499/76499 [==============================] - 2s 28us/sample - loss: 0.0181 - acc: 0.9760 - val_loss: 0.0227 - val_acc: 0.9673\n",
            "Epoch 47/50\n",
            "76499/76499 [==============================] - 2s 28us/sample - loss: 0.0178 - acc: 0.9757 - val_loss: 0.0178 - val_acc: 0.9742\n",
            "Epoch 48/50\n",
            "76499/76499 [==============================] - 2s 27us/sample - loss: 0.0175 - acc: 0.9755 - val_loss: 0.0152 - val_acc: 0.9785\n",
            "Epoch 49/50\n",
            "76499/76499 [==============================] - 2s 29us/sample - loss: 0.0178 - acc: 0.9756 - val_loss: 0.0155 - val_acc: 0.9766\n",
            "Epoch 50/50\n",
            "76499/76499 [==============================] - 2s 27us/sample - loss: 0.0175 - acc: 0.9750 - val_loss: 0.0163 - val_acc: 0.9816\n",
            "Testing the model:\n",
            "\n",
            "\n",
            "Testing Loss =  0.017388704811533293\n",
            "Testing Accuracy =  0.9816\n"
          ],
          "name": "stdout"
        }
      ]
    },
    {
      "cell_type": "code",
      "metadata": {
        "colab": {
          "base_uri": "https://localhost:8080/",
          "height": 294
        },
        "id": "hS7lOYoB2FGp",
        "outputId": "116488a7-a104-4e95-af6a-5c064fdd5824"
      },
      "source": [
        "plt.plot(history.history['acc'])\n",
        "plt.plot(history.history['val_acc'])\n",
        "plt.title('model accuracy')\n",
        "plt.ylabel('accuracy')\n",
        "plt.xlabel('epoch')\n",
        "plt.legend(['train', 'val'], loc='upper left')\n",
        "plt.show()"
      ],
      "execution_count": null,
      "outputs": [
        {
          "output_type": "display_data",
          "data": {
            "image/png": "[encoded data removed]",
            "text/plain": [
              "<Figure size 432x288 with 1 Axes>"
            ]
          },
          "metadata": {
            "tags": [],
            "needs_background": "light"
          }
        }
      ]
    },
    {
      "cell_type": "code",
      "metadata": {
        "colab": {
          "base_uri": "https://localhost:8080/",
          "height": 294
        },
        "id": "Wprq1t_b2eU4",
        "outputId": "62298228-64f4-4f35-f014-f68300b9cae0"
      },
      "source": [
        "plt.plot(history.history['loss'])\n",
        "plt.plot(history.history['val_loss'])\n",
        "plt.title('model loss')\n",
        "plt.ylabel('loss')\n",
        "plt.xlabel('epoch')\n",
        "plt.legend(['train', 'val'], loc='upper left')\n",
        "plt.show()"
      ],
      "execution_count": null,
      "outputs": [
        {
          "output_type": "display_data",
          "data": {
            "image/png": "[encoded data removed]",
            "text/plain": [
              "<Figure size 432x288 with 1 Axes>"
            ]
          },
          "metadata": {
            "tags": [],
            "needs_background": "light"
          }
        }
      ]
    },
    {
      "cell_type": "code",
      "metadata": {
        "colab": {
          "base_uri": "https://localhost:8080/"
        },
        "id": "j8HwkNcH8aPF",
        "outputId": "2e41a645-b857-4ae4-b408-a995315e46f1"
      },
      "source": [
        "#Visualising or Neural Network\n",
        "!pip install -q ann_visualizer\n",
        "from ann_visualizer.visualize import ann_viz;\n",
        "ann_viz(classifier, title=\"My neural network\")\n",
        "\n",
        "\n",
        "#Check the folder for \"network.gv.pdf\" to view the neural network"
      ],
      "execution_count": null,
      "outputs": [
        {
          "output_type": "error",
          "ename": "ModuleNotFoundError",
          "evalue": "No module named 'graphviz'",
          "traceback": [
            "\u001b[0;31m---------------------------------------------------------------------------\u001b[0m",
            "\u001b[0;31mModuleNotFoundError\u001b[0m                       Traceback (most recent call last)",
            "\u001b[0;32m<ipython-input-10-a3fbae187066>\u001b[0m in \u001b[0;36m<module>\u001b[0;34m\u001b[0m\n\u001b[1;32m      2\u001b[0m \u001b[0mget_ipython\u001b[0m\u001b[0;34m(\u001b[0m\u001b[0;34m)\u001b[0m\u001b[0;34m.\u001b[0m\u001b[0msystem\u001b[0m\u001b[0;34m(\u001b[0m\u001b[0;34m'pip install -q ann_visualizer'\u001b[0m\u001b[0;34m)\u001b[0m\u001b[0;34m\u001b[0m\u001b[0;34m\u001b[0m\u001b[0m\n\u001b[1;32m      3\u001b[0m \u001b[0;32mfrom\u001b[0m \u001b[0mann_visualizer\u001b[0m\u001b[0;34m.\u001b[0m\u001b[0mvisualize\u001b[0m \u001b[0;32mimport\u001b[0m \u001b[0mann_viz\u001b[0m\u001b[0;34m;\u001b[0m\u001b[0;34m\u001b[0m\u001b[0;34m\u001b[0m\u001b[0m\n\u001b[0;32m----> 4\u001b[0;31m \u001b[0mann_viz\u001b[0m\u001b[0;34m(\u001b[0m\u001b[0mclassifier\u001b[0m\u001b[0;34m,\u001b[0m \u001b[0mtitle\u001b[0m\u001b[0;34m=\u001b[0m\u001b[0;34m\"My neural network\"\u001b[0m\u001b[0;34m)\u001b[0m\u001b[0;34m\u001b[0m\u001b[0;34m\u001b[0m\u001b[0m\n\u001b[0m\u001b[1;32m      5\u001b[0m \u001b[0;34m\u001b[0m\u001b[0m\n\u001b[1;32m      6\u001b[0m \u001b[0;34m\u001b[0m\u001b[0m\n",
            "\u001b[0;32m~/anaconda3/lib/python3.8/site-packages/ann_visualizer/visualize.py\u001b[0m in \u001b[0;36mann_viz\u001b[0;34m(model, view, filename, title)\u001b[0m\n\u001b[1;32m     28\u001b[0m         \u001b[0mtitle\u001b[0m\u001b[0;34m:\u001b[0m \u001b[0mA\u001b[0m \u001b[0mtitle\u001b[0m \u001b[0;32mfor\u001b[0m \u001b[0mthe\u001b[0m \u001b[0mgraph\u001b[0m\u001b[0;34m\u001b[0m\u001b[0;34m\u001b[0m\u001b[0m\n\u001b[1;32m     29\u001b[0m     \"\"\"\n\u001b[0;32m---> 30\u001b[0;31m     \u001b[0;32mfrom\u001b[0m \u001b[0mgraphviz\u001b[0m \u001b[0;32mimport\u001b[0m \u001b[0mDigraph\u001b[0m\u001b[0;34m;\u001b[0m\u001b[0;34m\u001b[0m\u001b[0;34m\u001b[0m\u001b[0m\n\u001b[0m\u001b[1;32m     31\u001b[0m     \u001b[0;32mimport\u001b[0m \u001b[0mkeras\u001b[0m\u001b[0;34m;\u001b[0m\u001b[0;34m\u001b[0m\u001b[0;34m\u001b[0m\u001b[0m\n\u001b[1;32m     32\u001b[0m     \u001b[0;32mfrom\u001b[0m \u001b[0mkeras\u001b[0m\u001b[0;34m.\u001b[0m\u001b[0mmodels\u001b[0m \u001b[0;32mimport\u001b[0m \u001b[0mSequential\u001b[0m\u001b[0;34m;\u001b[0m\u001b[0;34m\u001b[0m\u001b[0;34m\u001b[0m\u001b[0m\n",
            "\u001b[0;31mModuleNotFoundError\u001b[0m: No module named 'graphviz'"
          ]
        }
      ]
    },
    {
      "cell_type": "markdown",
      "metadata": {
        "id": "HbHwbgd5JCYF"
      },
      "source": [
        "# Part 2: **Line**"
      ]
    },
    {
      "cell_type": "code",
      "metadata": {
        "colab": {
          "base_uri": "https://localhost:8080/",
          "height": 320
        },
        "id": "DjzaJQfQHiNc",
        "outputId": "efc6927e-f9ab-4201-e053-e4f9b436a811"
      },
      "source": [
        "## trying to plot x=10 line\n",
        "from matplotlib.ticker import MultipleLocator, FormatStrFormatter\n",
        "import imageio as img\n",
        "import glob,os\n",
        "\n",
        "try:  \n",
        "    os.mkdir('Figure')  \n",
        "except OSError as error:  \n",
        "    print(error)\n",
        "\n",
        "def oneFile():\n",
        "    with open('one.csv', 'w') as csvFile:\n",
        "        row = ['q1','q2','q3','xe','ye','thetae','t1','t2','t3']\n",
        "        csv.writer(csvFile).writerow(row)\n",
        "        arr=np.linspace(1,10,100)\n",
        "        for j in arr:\n",
        "            i= 10\n",
        "            theta=m.degrees(m.atan(j/i))\n",
        "            new_x=np.array([[i, j, theta]])\n",
        "            new_y=classifier.predict(new_x)\n",
        "            q1=float(new_y[0][0])\n",
        "            q2=float(new_y[0][1])\n",
        "            q3=float(new_y[0][2])\n",
        "            \n",
        "            t3=round(m.degrees(q1)+m.degrees(q2)+m.degrees(q3),2)\n",
        "            t1= round(l1*m.cos(q1)+ l2*m.cos(q1+q2)+ l3*m.cos(q1+q2+q3),2)\n",
        "            t2= round(l1*m.sin(q1)+ l2*m.sin(q1+q2)+ l3*m.sin(q1+q2+q3),2)\n",
        "\n",
        "\n",
        "            xintra= round(l1*m.cos(q1)+ l2*m.cos(q1+q2),2)\n",
        "            yintra= round(l1*m.sin(q1)+ l2*m.sin(q1+q2),2)\n",
        "            thetae=round(m.degrees(q1)+m.degrees(q2)+m.degrees(q3),2)\n",
        "            if( xintra>0 and yintra>0 and thetae>0 and thetae<90 and q1>0):\n",
        "                row = [q1,q2,q3,i,j,theta,t1,t2,t3]\n",
        "                plt.plot(i,j,'bo')\n",
        "                csv.writer(csvFile).writerow(row)\n",
        "                \n",
        "    csvFile.close()\n",
        "    \n",
        "oneFile()\n",
        "\n",
        "def plot_point(point, angle, length):\n",
        "    x, y = point\n",
        "    endy = y + length * m.sin(angle)\n",
        "    endx = x + length * m.cos(angle)\n",
        "    #plt.xlim([0,6])\n",
        "    #plt.ylim([0,6])\n",
        "    plt.plot([x, endx], [y, endy])\n",
        "    return endx,endy\n",
        "\n",
        "filename = 'one.csv'\n",
        "data = np.loadtxt(filename, delimiter=\",\", skiprows=1)\n",
        "\n",
        "ang1 = [row[0] for row in data]\n",
        "ang2 = [row[1] for row in data]\n",
        "ang3 = [row[2] for row in data]\n",
        "\n",
        "point = [0,0]\n",
        "c = 1\n",
        "images = []\n",
        "for i in range(len(data)):\n",
        "    fileName = 'Figure/one' + str(c) + '.png'\n",
        "    point = plot_point([0,0],ang1[i],l1)\n",
        "    point = plot_point(point,ang1[i]+ang2[i],l2)\n",
        "    plot_point(point,ang1[i]+ang2[i]+ang3[i],l3)\n",
        "    plt.savefig(fileName)\n",
        "    images.append(img.imread(fileName))\n",
        "    c = c+1\n",
        "    \n",
        "img.mimsave('Figure/animateone.gif',images) \n",
        "import glob, os\n",
        "for f in glob.glob(\"Figure/one*.png\"):\n",
        "    os.remove(f)"
      ],
      "execution_count": null,
      "outputs": [
        {
          "output_type": "display_data",
          "data": {
            "image/png": "[encoded data removed]",
            "text/plain": [
              "<Figure size 432x288 with 1 Axes>"
            ]
          },
          "metadata": {
            "tags": [],
            "needs_background": "light"
          }
        }
      ]
    },
    {
      "cell_type": "code",
      "metadata": {
        "colab": {
          "base_uri": "https://localhost:8080/"
        },
        "id": "GkPulvjDLs2K",
        "outputId": "bf8615b3-fabf-441d-ef9f-b363dc393e6f"
      },
      "source": [
        "## Performance of model for \"Line\"\n",
        "from sklearn.metrics import mean_squared_error\n",
        "\n",
        "data=pd.read_csv('one.csv')\n",
        "\n",
        "#root mean error\n",
        "X_true=data['xe']\n",
        "X_pred=data['t1']\n",
        "rmse_x=mean_squared_error(X_true,X_pred)\n",
        "\n",
        "Y_true=data['ye']\n",
        "Y_pred=data['t2']\n",
        "rmse_y=mean_squared_error(Y_true,Y_pred) \n",
        "\n",
        "print('\\nrmse in x = ', rmse_x) \n",
        "print('rmse in y = ', rmse_y)\n",
        "\n",
        "## adjusted rsquared test\n",
        "regressor_OLS = sm.OLS(endog = X_true, exog = X_pred).fit() \n",
        "print(regressor_OLS.rsquared_adj)\n",
        "regressor_OLS = sm.OLS(endog = Y_true, exog = Y_pred).fit() \n",
        "print(regressor_OLS.rsquared_adj)  "
      ],
      "execution_count": null,
      "outputs": [
        {
          "output_type": "stream",
          "text": [
            "\n",
            "rmse in x =  0.059989999999999995\n",
            "rmse in y =  0.10459672727272727\n",
            "0.9997612192363979\n",
            "0.9971583438129468\n"
          ],
          "name": "stdout"
        }
      ]
    },
    {
      "cell_type": "code",
      "metadata": {
        "colab": {
          "base_uri": "https://localhost:8080/",
          "height": 287
        },
        "id": "V5HWxVURlXV1",
        "outputId": "1f2ce5b0-ac44-4f36-fcdd-c703276a4a4b"
      },
      "source": [
        "## trying to plot \"Circle\"\n",
        "def circleFile():\n",
        "    with open('circle.csv', 'w') as csvFile:\n",
        "        row = ['q1','q2','q3','xe','ye','thetae','t1','t2','t3']\n",
        "        csv.writer(csvFile).writerow(row)\n",
        "        Xc = 10\n",
        "        Yc = 10\n",
        "        r = 5\n",
        "        data_points =100\n",
        "        points = np.linspace(0,360,num =data_points)\n",
        "        for p in points:\n",
        "            \n",
        "            ##parametric form of a circle\n",
        "            \n",
        "            \n",
        "            i=Xc + r*m.cos(np.radians(p))\n",
        "            j=Yc + r*m.sin(np.radians(p))\n",
        "            theta=m.degrees(m.atan(j/i))\n",
        "            new_x=np.array([[i, j, theta]])\n",
        "            new_y=classifier.predict(new_x)\n",
        "            q1=float(new_y[0][0])\n",
        "            q2=float(new_y[0][1])\n",
        "            q3=float(new_y[0][2])\n",
        "\n",
        "            t3=round(m.degrees(q1)+m.degrees(q2)+m.degrees(q3),2)\n",
        "            t1= round(l1*m.cos(q1)+ l2*m.cos(q1+q2)+ l3*m.cos(q1+q2+q3),2)\n",
        "            t2= round(l1*m.sin(q1)+ l2*m.sin(q1+q2)+ l3*m.sin(q1+q2+q3),2)\n",
        "            \n",
        "            row = [q1,q2,q3,i,j,theta,t1,t2,t3]\n",
        "            #plt.xlim([0,20])\n",
        "            #plt.ylim([0,20])\n",
        "            plt.plot(i,j,'go')\n",
        "            csv.writer(csvFile).writerow(row)\n",
        "                \n",
        "    csvFile.close()\n",
        "    \n",
        "circleFile()\n",
        "\n",
        "def plot_point(point, angle, length):\n",
        "    x, y = point\n",
        "    endy = y + length * m.sin(angle)\n",
        "    endx = x + length * m.cos(angle)\n",
        "    #plt.xlim([0,6])\n",
        "    #plt.ylim([0,6])\n",
        "    #plt.plot([x, endx], [y, endy])\n",
        "    return endx,endy\n",
        "\n",
        "filename = 'circle.csv'\n",
        "data = np.loadtxt(filename, delimiter=\",\", skiprows=1)\n",
        "\n",
        "\n",
        "ang1 = [row[0] for row in data]\n",
        "ang2 = [row[1] for row in data]\n",
        "ang3 = [row[2] for row in data]\n",
        "\n",
        "point = [0,0]\n",
        "c = 1\n",
        "images = []\n",
        "for i in range(len(data)):\n",
        "    #fileName = 'Figure/circle' + str(c) + '.png'\n",
        "    point = plot_point([0,0],ang1[i],l1)\n",
        "    point = plot_point(point,ang1[i]+ang2[i],l2)\n",
        "    point=plot_point(point,ang1[i]+ang2[i]+ang3[i],l3)\n",
        "    plt.xlim([0,20])\n",
        "    plt.ylim([0,20])\n",
        "    plt.plot(point[0],point[1],'bo')\n",
        "    #plot_point(point,ang1[i]+ang2[i]+ang3[i],l3)\n",
        "    #plt.savefig(fileName)\n",
        "    #images.append(img.imread(fileName))\n",
        "    #c = c+1\n",
        "    \n",
        "'''img.mimsave('Figure/animatecircle.gif',images) \n",
        "import glob, os\n",
        "for f in glob.glob(\"Figure/circle*.png\"):\n",
        "    os.remove(f)'''"
      ],
      "execution_count": null,
      "outputs": [
        {
          "output_type": "execute_result",
          "data": {
            "text/plain": [
              "'img.mimsave(\\'Figure/animatecircle.gif\\',images) \\nimport glob, os\\nfor f in glob.glob(\"Figure/circle*.png\"):\\n    os.remove(f)'"
            ]
          },
          "metadata": {
            "tags": []
          },
          "execution_count": 14
        },
        {
          "output_type": "display_data",
          "data": {
            "image/png": "[encoded data removed]",
            "text/plain": [
              "<Figure size 432x288 with 1 Axes>"
            ]
          },
          "metadata": {
            "tags": [],
            "needs_background": "light"
          }
        }
      ]
    },
    {
      "cell_type": "code",
      "metadata": {
        "colab": {
          "base_uri": "https://localhost:8080/"
        },
        "id": "lUJRv3K7lzuY",
        "outputId": "27d792b7-9f92-44b2-9918-05fec1a04795"
      },
      "source": [
        "## Performance of model for \"Circle\"\n",
        "from sklearn.metrics import mean_squared_error\n",
        "\n",
        "data=pd.read_csv('circle.csv')\n",
        "\n",
        "#rmse\n",
        "X_true=data['xe']\n",
        "X_pred=data['t1']\n",
        "rmse_x=mean_squared_error(X_true,X_pred)\n",
        "\n",
        "Y_true=data['ye']\n",
        "Y_pred=data['t2']\n",
        "rmse_y=mean_squared_error(Y_true,Y_pred) \n",
        "\n",
        "print('\\nrmse in x = ', rmse_x) \n",
        "print('rmse in y = ', rmse_y)\n",
        "\n",
        "## adjusted rsquared test\n",
        "regressor_OLS = sm.OLS(endog = X_true, exog = X_pred).fit() \n",
        "print(regressor_OLS.rsquared_adj)\n",
        "regressor_OLS = sm.OLS(endog = Y_true, exog = Y_pred).fit() \n",
        "print(regressor_OLS.rsquared_adj) "
      ],
      "execution_count": null,
      "outputs": [
        {
          "output_type": "stream",
          "text": [
            "\n",
            "rmse in x =  0.23732434170218997\n",
            "rmse in y =  0.052599937668897895\n",
            "0.9982008833097055\n",
            "0.9995271969282624\n"
          ],
          "name": "stdout"
        }
      ]
    },
    {
      "cell_type": "code",
      "metadata": {
        "colab": {
          "base_uri": "https://localhost:8080/",
          "height": 356
        },
        "id": "tNrQr6ItqTOC",
        "outputId": "d65800dc-d05a-4d11-e173-52f1e2d9a455"
      },
      "source": [
        "## trying to plot \"HELLO\"   \n",
        "\n",
        "def helloFile():\n",
        "  with open('hello.csv', 'w') as csvFile:\n",
        "        row= ['q1','q2','q3','xe','ye','thetae','t1','t2','t3']\n",
        "        csv.writer(csvFile).writerow(row)\n",
        "\n",
        "        # for H\n",
        "        arr=np.linspace(7,10,100)\n",
        "        for j in arr:\n",
        "            i= 7\n",
        "            theta=m.degrees(m.atan(j/i))\n",
        "            new_x=np.array([[i, j, theta]])\n",
        "            new_y=classifier.predict(new_x)\n",
        "            q1=float(new_y[0][0])\n",
        "            q2=float(new_y[0][1])\n",
        "            q3=float(new_y[0][2])\n",
        "            \n",
        "            t3=round(m.degrees(q1)+m.degrees(q2)+m.degrees(q3),2)\n",
        "            t1= round(l1*m.cos(q1)+ l2*m.cos(q1+q2)+ l3*m.cos(q1+q2+q3),2)\n",
        "            t2= round(l1*m.sin(q1)+ l2*m.sin(q1+q2)+ l3*m.sin(q1+q2+q3),2)\n",
        "            row = [q1,q2,q3,i,j,theta,t1,t2,t3]\n",
        "            plt.plot(i,j,'go')\n",
        "            csv.writer(csvFile).writerow(row)\n",
        "\n",
        "        arr=np.linspace(7,9,100)\n",
        "        for i in arr:\n",
        "            j=8\n",
        "            theta=m.degrees(m.atan(j/i))\n",
        "            new_x=np.array([[i, j, theta]])\n",
        "            new_y=classifier.predict(new_x)\n",
        "            q1=float(new_y[0][0])\n",
        "            q2=float(new_y[0][1])\n",
        "            q3=float(new_y[0][2])\n",
        "            \n",
        "            t3=round(m.degrees(q1)+m.degrees(q2)+m.degrees(q3),2)\n",
        "            t1= round(l1*m.cos(q1)+ l2*m.cos(q1+q2)+ l3*m.cos(q1+q2+q3),2)\n",
        "            t2= round(l1*m.sin(q1)+ l2*m.sin(q1+q2)+ l3*m.sin(q1+q2+q3),2)\n",
        "            row = [q1,q2,q3,i,j,theta,t1,t2,t3]\n",
        "            plt.plot(i,j,'go')\n",
        "            csv.writer(csvFile).writerow(row)\n",
        "\n",
        "        arr=np.linspace(7,10,100)\n",
        "        for j in arr:\n",
        "            i= 9\n",
        "            theta=m.degrees(m.atan(j/i))\n",
        "            new_x=np.array([[i, j, theta]])\n",
        "            new_y=classifier.predict(new_x)\n",
        "            q1=float(new_y[0][0])\n",
        "            q2=float(new_y[0][1])\n",
        "            q3=float(new_y[0][2])\n",
        "\n",
        "            t3=round(m.degrees(q1)+m.degrees(q2)+m.degrees(q3),2)\n",
        "            t1= round(l1*m.cos(q1)+ l2*m.cos(q1+q2)+ l3*m.cos(q1+q2+q3),2)\n",
        "            t2= round(l1*m.sin(q1)+ l2*m.sin(q1+q2)+ l3*m.sin(q1+q2+q3),2)\n",
        "            row = [q1,q2,q3,i,j,theta,t1,t2,t3]\n",
        "            plt.plot(i,j,'go')\n",
        "            csv.writer(csvFile).writerow(row)\n",
        "\n",
        "        # for E\n",
        "        arr=np.linspace(4,7,100)\n",
        "        for j in arr:\n",
        "            i= 10\n",
        "            theta=m.degrees(m.atan(j/i))\n",
        "            new_x=np.array([[i, j, theta]])\n",
        "            new_y=classifier.predict(new_x)\n",
        "            q1=float(new_y[0][0])\n",
        "            q2=float(new_y[0][1])\n",
        "            q3=float(new_y[0][2])\n",
        "            \n",
        "            t3=round(m.degrees(q1)+m.degrees(q2)+m.degrees(q3),2)\n",
        "            t1= round(l1*m.cos(q1)+ l2*m.cos(q1+q2)+ l3*m.cos(q1+q2+q3),2)\n",
        "            t2= round(l1*m.sin(q1)+ l2*m.sin(q1+q2)+ l3*m.sin(q1+q2+q3),2)\n",
        "            row = [q1,q2,q3,i,j,theta,t1,t2,t3]\n",
        "            plt.plot(i,j,'go')\n",
        "            csv.writer(csvFile).writerow(row)\n",
        "        \n",
        "        arr=np.linspace(10,12,100)\n",
        "        for i in arr:\n",
        "            j=7\n",
        "            theta=m.degrees(m.atan(j/i))\n",
        "            new_x=np.array([[i, j, theta]])\n",
        "            new_y=classifier.predict(new_x)\n",
        "            q1=float(new_y[0][0])\n",
        "            q2=float(new_y[0][1])\n",
        "            q3=float(new_y[0][2])\n",
        "            \n",
        "            t3=round(m.degrees(q1)+m.degrees(q2)+m.degrees(q3),2)\n",
        "            t1= round(l1*m.cos(q1)+ l2*m.cos(q1+q2)+ l3*m.cos(q1+q2+q3),2)\n",
        "            t2= round(l1*m.sin(q1)+ l2*m.sin(q1+q2)+ l3*m.sin(q1+q2+q3),2)\n",
        "            row = [q1,q2,q3,i,j,theta,t1,t2,t3]\n",
        "            plt.plot(i,j,'go')\n",
        "            csv.writer(csvFile).writerow(row)\n",
        "\n",
        "        arr=np.linspace(10,11,100)\n",
        "        for i in arr:\n",
        "            j=5\n",
        "            theta=m.degrees(m.atan(j/i))\n",
        "            new_x=np.array([[i, j, theta]])\n",
        "            new_y=classifier.predict(new_x)\n",
        "            q1=float(new_y[0][0])\n",
        "            q2=float(new_y[0][1])\n",
        "            q3=float(new_y[0][2])\n",
        "\n",
        "            t3=round(m.degrees(q1)+m.degrees(q2)+m.degrees(q3),2)\n",
        "            t1= round(l1*m.cos(q1)+ l2*m.cos(q1+q2)+ l3*m.cos(q1+q2+q3),2)\n",
        "            t2= round(l1*m.sin(q1)+ l2*m.sin(q1+q2)+ l3*m.sin(q1+q2+q3),2)\n",
        "            row = [q1,q2,q3,i,j,theta,t1,t2,t3]\n",
        "            plt.plot(i,j,'go')\n",
        "            csv.writer(csvFile).writerow(row)\n",
        "\n",
        "        arr=np.linspace(10,12,100)\n",
        "        for i in arr:\n",
        "            j=4\n",
        "            theta=m.degrees(m.atan(j/i))\n",
        "            new_x=np.array([[i, j, theta]])\n",
        "            new_y=classifier.predict(new_x)\n",
        "            q1=float(new_y[0][0])\n",
        "            q2=float(new_y[0][1])\n",
        "            q3=float(new_y[0][2])\n",
        "\n",
        "            t3=round(m.degrees(q1)+m.degrees(q2)+m.degrees(q3),2)\n",
        "            t1= round(l1*m.cos(q1)+ l2*m.cos(q1+q2)+ l3*m.cos(q1+q2+q3),2)\n",
        "            t2= round(l1*m.sin(q1)+ l2*m.sin(q1+q2)+ l3*m.sin(q1+q2+q3),2)\n",
        "            row = [q1,q2,q3,i,j,theta,t1,t2,t3]\n",
        "            plt.plot(i,j,'go')\n",
        "            csv.writer(csvFile).writerow(row)\n",
        "\n",
        "        # for L\n",
        "        arr=np.linspace(4,7,100)\n",
        "        for j in arr:\n",
        "            i= 13\n",
        "            theta=m.degrees(m.atan(j/i))\n",
        "            new_x=np.array([[i, j, theta]])\n",
        "            new_y=classifier.predict(new_x)\n",
        "            q1=float(new_y[0][0])\n",
        "            q2=float(new_y[0][1])\n",
        "            q3=float(new_y[0][2])\n",
        "\n",
        "            t3=round(m.degrees(q1)+m.degrees(q2)+m.degrees(q3),2)\n",
        "            t1= round(l1*m.cos(q1)+ l2*m.cos(q1+q2)+ l3*m.cos(q1+q2+q3),2)\n",
        "            t2= round(l1*m.sin(q1)+ l2*m.sin(q1+q2)+ l3*m.sin(q1+q2+q3),2)\n",
        "\n",
        "            row = [q1,q2,q3,i,j,theta,t1,t2,t3]\n",
        "            plt.plot(i,j,'go')\n",
        "            csv.writer(csvFile).writerow(row)\n",
        "\n",
        "        arr=np.linspace(13,14,100)\n",
        "        for i in arr:\n",
        "            j=4\n",
        "            theta=m.degrees(m.atan(j/i))\n",
        "            new_x=np.array([[i, j, theta]])\n",
        "            new_y=classifier.predict(new_x)\n",
        "            q1=float(new_y[0][0])\n",
        "            q2=float(new_y[0][1])\n",
        "            q3=float(new_y[0][2])\n",
        "\n",
        "            t3=round(m.degrees(q1)+m.degrees(q2)+m.degrees(q3),2)\n",
        "            t1= round(l1*m.cos(q1)+ l2*m.cos(q1+q2)+ l3*m.cos(q1+q2+q3),2)\n",
        "            t2= round(l1*m.sin(q1)+ l2*m.sin(q1+q2)+ l3*m.sin(q1+q2+q3),2)\n",
        "\n",
        "            row = [q1,q2,q3,i,j,theta,t1,t2,t3]\n",
        "            plt.plot(i,j,'go')\n",
        "            csv.writer(csvFile).writerow(row)\n",
        "\n",
        "        # for L\n",
        "        arr=np.linspace(4,7,100)\n",
        "        for j in arr:\n",
        "            i= 15\n",
        "            theta=m.degrees(m.atan(j/i))\n",
        "            new_x=np.array([[i, j, theta]])\n",
        "            new_y=classifier.predict(new_x)\n",
        "            q1=float(new_y[0][0])\n",
        "            q2=float(new_y[0][1])\n",
        "            q3=float(new_y[0][2])\n",
        "\n",
        "            t3=round(m.degrees(q1)+m.degrees(q2)+m.degrees(q3),2)\n",
        "            t1= round(l1*m.cos(q1)+ l2*m.cos(q1+q2)+ l3*m.cos(q1+q2+q3),2)\n",
        "            t2= round(l1*m.sin(q1)+ l2*m.sin(q1+q2)+ l3*m.sin(q1+q2+q3),2)\n",
        "\n",
        "            row = [q1,q2,q3,i,j,theta,t1,t2,t3]\n",
        "            plt.plot(i,j,'go')\n",
        "            csv.writer(csvFile).writerow(row)\n",
        "\n",
        "        arr=np.linspace(15,16,100)\n",
        "        for i in arr:\n",
        "            j=4\n",
        "            theta=m.degrees(m.atan(j/i))\n",
        "            new_x=np.array([[i, j, theta]])\n",
        "            new_y=classifier.predict(new_x)\n",
        "            q1=float(new_y[0][0])\n",
        "            q2=float(new_y[0][1])\n",
        "            q3=float(new_y[0][2])\n",
        "\n",
        "            t3=round(m.degrees(q1)+m.degrees(q2)+m.degrees(q3),2)\n",
        "            t1= round(l1*m.cos(q1)+ l2*m.cos(q1+q2)+ l3*m.cos(q1+q2+q3),2)\n",
        "            t2= round(l1*m.sin(q1)+ l2*m.sin(q1+q2)+ l3*m.sin(q1+q2+q3),2)\n",
        "\n",
        "            row = [q1,q2,q3,i,j,theta,t1,t2,t3]\n",
        "            plt.plot(i,j,'go')\n",
        "            csv.writer(csvFile).writerow(row)\n",
        "        \n",
        "        Xc = 18\n",
        "        Yc = 6\n",
        "        r = 1\n",
        "        data_points =100\n",
        "        points = np.linspace(0,360,num =data_points)\n",
        "        for p in points:\n",
        "            i=Xc + r*m.cos(np.radians(p))\n",
        "            j=Yc + r*m.sin(np.radians(p))\n",
        "            theta=m.degrees(m.atan(j/i))\n",
        "            new_x=np.array([[i, j, theta]])\n",
        "            new_y=classifier.predict(new_x)\n",
        "            q1=float(new_y[0][0])\n",
        "            q2=float(new_y[0][1])\n",
        "            q3=float(new_y[0][2])\n",
        "\n",
        "            t3=round(m.degrees(q1)+m.degrees(q2)+m.degrees(q3),2)\n",
        "            t1= round(l1*m.cos(q1)+ l2*m.cos(q1+q2)+ l3*m.cos(q1+q2+q3),2)\n",
        "            t2= round(l1*m.sin(q1)+ l2*m.sin(q1+q2)+ l3*m.sin(q1+q2+q3),2)\n",
        "\n",
        "            row = [q1,q2,q3,i,j,theta,t1,t2,t3]\n",
        "            plt.plot(i,j,'go')\n",
        "            csv.writer(csvFile).writerow(row)\n",
        "  csvFile.close()\n",
        "        \n",
        "    \n",
        "helloFile()\n",
        "\n",
        "def plot_point(point, angle, length):\n",
        "    x, y = point\n",
        "    endy = y + length * m.sin(angle)\n",
        "    endx = x + length * m.cos(angle)\n",
        "    #plt.xlim([0,6])\n",
        "    #plt.ylim([0,6])\n",
        "    #plt.plot([x, endx], [y, endy])\n",
        "    return endx,endy\n",
        "\n",
        "filename = 'hello.csv'\n",
        "data = np.loadtxt(filename, delimiter=\",\", skiprows=1)\n",
        "\n",
        "\n",
        "ang1 = [row[0] for row in data]\n",
        "ang2 = [row[1] for row in data]\n",
        "ang3 = [row[2] for row in data]\n",
        "\n",
        "point = [0,0]\n",
        "c = 1\n",
        "images = []\n",
        "import time\n",
        "\n",
        "#time_start = time.clock()\n",
        "for i in range(len(data)):\n",
        "    #fileName = 'Figure/circle' + str(c) + '.png'\n",
        "    point = plot_point([0,0],ang1[i],l1)\n",
        "    point = plot_point(point,ang1[i]+ang2[i],l2)\n",
        "    point=plot_point(point,ang1[i]+ang2[i]+ang3[i],l3)\n",
        "    plt.xlim([0,20])\n",
        "    plt.ylim([0,20])\n",
        "    plt.plot(point[0],point[1],'bo')\n",
        "    plot_point(point,ang1[i]+ang2[i]+ang3[i],l3)\n",
        "    #plt.savefig(fileName)\n",
        "    #images.append(img.imread(fileName))\n",
        "    #c = c+1\n",
        "#time_elapsed = (time.clock() - time_start)\n",
        "#print(time_elapsed)   \n",
        "'''img.mimsave('Figure/animatecircle.gif',images) \n",
        "import glob, os\n",
        "for f in glob.glob(\"Figure/circle*.png\"):\n",
        "    os.remove(f)'''"
      ],
      "execution_count": null,
      "outputs": [
        {
          "output_type": "execute_result",
          "data": {
            "text/plain": [
              "'img.mimsave(\\'Figure/animatecircle.gif\\',images) \\nimport glob, os\\nfor f in glob.glob(\"Figure/circle*.png\"):\\n    os.remove(f)'"
            ]
          },
          "metadata": {
            "tags": []
          },
          "execution_count": 19
        },
        {
          "output_type": "display_data",
          "data": {
            "image/png": "[encoded data removed]",
            "text/plain": [
              "<Figure size 432x288 with 1 Axes>"
            ]
          },
          "metadata": {
            "tags": [],
            "needs_background": "light"
          }
        }
      ]
    },
    {
      "cell_type": "code",
      "metadata": {
        "colab": {
          "base_uri": "https://localhost:8080/"
        },
        "id": "puTWxL1-rFpt",
        "outputId": "f605d311-fc9a-426b-f2b6-2066e6b4f33a"
      },
      "source": [
        "## Performance of Model for \"Hello\"\n",
        "from sklearn.metrics import mean_squared_error\n",
        "\n",
        "data=pd.read_csv('hello.csv')\n",
        "\n",
        "X_true=data['xe']\n",
        "X_pred=data['t1']\n",
        "rmse_x=mean_squared_error(X_true,X_pred)\n",
        "\n",
        "Y_true=data['ye']\n",
        "Y_pred=data['t2']\n",
        "rmse_y=mean_squared_error(Y_true,Y_pred) \n",
        "\n",
        "print('\\nrmse in x = ', rmse_x) \n",
        "print('rmse in y = ', rmse_y)\n",
        "\n",
        "## adjusted rsquared test\n",
        "regressor_OLS = sm.OLS(endog = X_true, exog = X_pred).fit() \n",
        "print(regressor_OLS.rsquared_adj)\n",
        "regressor_OLS = sm.OLS(endog = Y_true, exog = Y_pred).fit() \n",
        "print(regressor_OLS.rsquared_adj) "
      ],
      "execution_count": null,
      "outputs": [
        {
          "output_type": "stream",
          "text": [
            "\n",
            "rmse in x =  0.13016214948319463\n",
            "rmse in y =  0.060136039195330254\n",
            "0.9992167471457742\n",
            "0.9984692135060239\n"
          ],
          "name": "stdout"
        }
      ]
    },
    {
      "cell_type": "code",
      "metadata": {
        "id": "HuSyf2d-LKaP",
        "outputId": "b3255df4-20ea-4e3c-ebc7-0a240803742d"
      },
      "source": [
        "## trying to plot \"IIITM\"   \n",
        "\n",
        "def iiitmFile():\n",
        "  with open('iiitm.csv', 'w') as csvFile:\n",
        "        row= ['q1','q2','q3','xe','ye','thetae','t1','t2','t3']\n",
        "        csv.writer(csvFile).writerow(row)\n",
        "\n",
        "        # for I\n",
        "        arr=np.linspace(7,10,100)\n",
        "        for j in arr:\n",
        "            i= 7\n",
        "            theta=m.degrees(m.atan(j/i))\n",
        "            new_x=np.array([[i, j, theta]])\n",
        "            new_y=classifier.predict(new_x)\n",
        "            q1=float(new_y[0][0])\n",
        "            q2=float(new_y[0][1])\n",
        "            q3=float(new_y[0][2])\n",
        "            \n",
        "            t3=round(m.degrees(q1)+m.degrees(q2)+m.degrees(q3),2)\n",
        "            t1= round(l1*m.cos(q1)+ l2*m.cos(q1+q2)+ l3*m.cos(q1+q2+q3),2)\n",
        "            t2= round(l1*m.sin(q1)+ l2*m.sin(q1+q2)+ l3*m.sin(q1+q2+q3),2)\n",
        "            row = [q1,q2,q3,i,j,theta,t1,t2,t3]\n",
        "            plt.plot(i,j,'go')\n",
        "            csv.writer(csvFile).writerow(row)\n",
        "\n",
        "       \n",
        "        # for I\n",
        "        arr=np.linspace(7,10,100)\n",
        "        for j in arr:\n",
        "            i= 9\n",
        "            theta=m.degrees(m.atan(j/i))\n",
        "            new_x=np.array([[i, j, theta]])\n",
        "            new_y=classifier.predict(new_x)\n",
        "            q1=float(new_y[0][0])\n",
        "            q2=float(new_y[0][1])\n",
        "            q3=float(new_y[0][2])\n",
        "            \n",
        "            t3=round(m.degrees(q1)+m.degrees(q2)+m.degrees(q3),2)\n",
        "            t1= round(l1*m.cos(q1)+ l2*m.cos(q1+q2)+ l3*m.cos(q1+q2+q3),2)\n",
        "            t2= round(l1*m.sin(q1)+ l2*m.sin(q1+q2)+ l3*m.sin(q1+q2+q3),2)\n",
        "            row = [q1,q2,q3,i,j,theta,t1,t2,t3]\n",
        "            plt.plot(i,j,'go')\n",
        "            csv.writer(csvFile).writerow(row)\n",
        "        \n",
        "        #for I\n",
        "        \n",
        "        arr=np.linspace(7,10,100)\n",
        "        for j in arr:\n",
        "            i= 11\n",
        "            theta=m.degrees(m.atan(j/i))\n",
        "            new_x=np.array([[i, j, theta]])\n",
        "            new_y=classifier.predict(new_x)\n",
        "            q1=float(new_y[0][0])\n",
        "            q2=float(new_y[0][1])\n",
        "            q3=float(new_y[0][2])\n",
        "            \n",
        "            t3=round(m.degrees(q1)+m.degrees(q2)+m.degrees(q3),2)\n",
        "            t1= round(l1*m.cos(q1)+ l2*m.cos(q1+q2)+ l3*m.cos(q1+q2+q3),2)\n",
        "            t2= round(l1*m.sin(q1)+ l2*m.sin(q1+q2)+ l3*m.sin(q1+q2+q3),2)\n",
        "            row = [q1,q2,q3,i,j,theta,t1,t2,t3]\n",
        "            plt.plot(i,j,'go')\n",
        "            csv.writer(csvFile).writerow(row)\n",
        "            \n",
        "            \n",
        "            \n",
        "        #for T\n",
        "\n",
        "        arr=np.linspace(7,10,100)\n",
        "        for j in arr:\n",
        "            i=13\n",
        "            theta=m.degrees(m.atan(j/i))\n",
        "            new_x=np.array([[i, j, theta]])\n",
        "            new_y=classifier.predict(new_x)\n",
        "            q1=float(new_y[0][0])\n",
        "            q2=float(new_y[0][1])\n",
        "            q3=float(new_y[0][2])\n",
        "\n",
        "            t3=round(m.degrees(q1)+m.degrees(q2)+m.degrees(q3),2)\n",
        "            t1= round(l1*m.cos(q1)+ l2*m.cos(q1+q2)+ l3*m.cos(q1+q2+q3),2)\n",
        "            t2= round(l1*m.sin(q1)+ l2*m.sin(q1+q2)+ l3*m.sin(q1+q2+q3),2)\n",
        "            row = [q1,q2,q3,i,j,theta,t1,t2,t3]\n",
        "            plt.plot(i,j,'go')\n",
        "            csv.writer(csvFile).writerow(row)\n",
        "            \n",
        "            \n",
        "        arr=np.linspace(11,14,100)\n",
        "        for i in arr:\n",
        "            j=10\n",
        "            theta=m.degrees(m.atan(j/i))\n",
        "            new_x=np.array([[i, j, theta]])\n",
        "            new_y=classifier.predict(new_x)\n",
        "            q1=float(new_y[0][0])\n",
        "            q2=float(new_y[0][1])\n",
        "            q3=float(new_y[0][2])\n",
        "\n",
        "            t3=round(m.degrees(q1)+m.degrees(q2)+m.degrees(q3),2)\n",
        "            t1= round(l1*m.cos(q1)+ l2*m.cos(q1+q2)+ l3*m.cos(q1+q2+q3),2)\n",
        "            t2= round(l1*m.sin(q1)+ l2*m.sin(q1+q2)+ l3*m.sin(q1+q2+q3),2)\n",
        "            row = [q1,q2,q3,i,j,theta,t1,t2,t3]\n",
        "            plt.plot(i,j,'go')\n",
        "            csv.writer(csvFile).writerow(row)\n",
        "            \n",
        "            \n",
        "             #for M\n",
        "\n",
        "        arr=np.linspace(7,10,100)\n",
        "        for j in arr:\n",
        "            i=15\n",
        "            theta=m.degrees(m.atan(j/i))\n",
        "            new_x=np.array([[i, j, theta]])\n",
        "            new_y=classifier.predict(new_x)\n",
        "            q1=float(new_y[0][0])\n",
        "            q2=float(new_y[0][1])\n",
        "            q3=float(new_y[0][2])\n",
        "\n",
        "            t3=round(m.degrees(q1)+m.degrees(q2)+m.degrees(q3),2)\n",
        "            t1= round(l1*m.cos(q1)+ l2*m.cos(q1+q2)+ l3*m.cos(q1+q2+q3),2)\n",
        "            t2= round(l1*m.sin(q1)+ l2*m.sin(q1+q2)+ l3*m.sin(q1+q2+q3),2)\n",
        "            row = [q1,q2,q3,i,j,theta,t1,t2,t3]\n",
        "            plt.plot(i,j,'go')\n",
        "            csv.writer(csvFile).writerow(row)\n",
        "            \n",
        "            \n",
        "        arr=np.linspace(10,8,100)\n",
        "        for j in arr:\n",
        "            i=25-j\n",
        "            theta=m.degrees(m.atan(j/i))\n",
        "            new_x=np.array([[i, j, theta]])\n",
        "            new_y=classifier.predict(new_x)\n",
        "            q1=float(new_y[0][0])\n",
        "            q2=float(new_y[0][1])\n",
        "            q3=float(new_y[0][2])\n",
        "\n",
        "            t3=round(m.degrees(q1)+m.degrees(q2)+m.degrees(q3),2)\n",
        "            t1= round(l1*m.cos(q1)+ l2*m.cos(q1+q2)+ l3*m.cos(q1+q2+q3),2)\n",
        "            t2= round(l1*m.sin(q1)+ l2*m.sin(q1+q2)+ l3*m.sin(q1+q2+q3),2)\n",
        "            row = [q1,q2,q3,i,j,theta,t1,t2,t3]\n",
        "            plt.plot(i,j,'go')\n",
        "            csv.writer(csvFile).writerow(row)\n",
        "            \n",
        "            \n",
        "        arr=np.linspace(8,10,100)\n",
        "        for j in arr:\n",
        "            i=j+9\n",
        "            theta=m.degrees(m.atan(j/i))\n",
        "            new_x=np.array([[i, j, theta]])\n",
        "            new_y=classifier.predict(new_x)\n",
        "            q1=float(new_y[0][0])\n",
        "            q2=float(new_y[0][1])\n",
        "            q3=float(new_y[0][2])\n",
        "\n",
        "            t3=round(m.degrees(q1)+m.degrees(q2)+m.degrees(q3),2)\n",
        "            t1= round(l1*m.cos(q1)+ l2*m.cos(q1+q2)+ l3*m.cos(q1+q2+q3),2)\n",
        "            t2= round(l1*m.sin(q1)+ l2*m.sin(q1+q2)+ l3*m.sin(q1+q2+q3),2)\n",
        "            row = [q1,q2,q3,i,j,theta,t1,t2,t3]\n",
        "            plt.plot(i,j,'go')\n",
        "            csv.writer(csvFile).writerow(row)\n",
        "            \n",
        "            \n",
        "            \n",
        "        arr=np.linspace(7,10,100)\n",
        "        for j in arr:\n",
        "            i= 19\n",
        "            theta=m.degrees(m.atan(j/i))\n",
        "            new_x=np.array([[i, j, theta]])\n",
        "            new_y=classifier.predict(new_x)\n",
        "            q1=float(new_y[0][0])\n",
        "            q2=float(new_y[0][1])\n",
        "            q3=float(new_y[0][2])\n",
        "            \n",
        "            t3=round(m.degrees(q1)+m.degrees(q2)+m.degrees(q3),2)\n",
        "            t1= round(l1*m.cos(q1)+ l2*m.cos(q1+q2)+ l3*m.cos(q1+q2+q3),2)\n",
        "            t2= round(l1*m.sin(q1)+ l2*m.sin(q1+q2)+ l3*m.sin(q1+q2+q3),2)\n",
        "            row = [q1,q2,q3,i,j,theta,t1,t2,t3]\n",
        "            plt.plot(i,j,'go')\n",
        "            csv.writer(csvFile).writerow(row)\n",
        "            \n",
        "            \n",
        "            \n",
        "        \n",
        "\n",
        "               \n",
        "  csvFile.close()\n",
        "        \n",
        "    \n",
        "iiitmFile()\n",
        "\n",
        "def plot_point(point, angle, length):\n",
        "    x, y = point\n",
        "    endy = y + length * m.sin(angle)\n",
        "    endx = x + length * m.cos(angle)\n",
        "    #plt.xlim([0,6])\n",
        "    #plt.ylim([0,6])\n",
        "    #plt.plot([x, endx], [y, endy])\n",
        "    return endx,endy\n",
        "\n",
        "filename = 'iiitm.csv'\n",
        "data = np.loadtxt(filename, delimiter=\",\", skiprows=1)\n",
        "\n",
        "\n",
        "ang1 = [row[0] for row in data]\n",
        "ang2 = [row[1] for row in data]\n",
        "ang3 = [row[2] for row in data]\n",
        "\n",
        "point = [0,0]\n",
        "c = 1\n",
        "images = []\n",
        "import time\n",
        "\n",
        "#time_start = time.clock()\n",
        "for i in range(len(data)):\n",
        "    #fileName = 'Figure/circle' + str(c) + '.png'\n",
        "    point = plot_point([0,0],ang1[i],l1)\n",
        "    point = plot_point(point,ang1[i]+ang2[i],l2)\n",
        "    point=plot_point(point,ang1[i]+ang2[i]+ang3[i],l3)\n",
        "    plt.xlim([0,22])\n",
        "    plt.ylim([0,22])\n",
        "    plt.plot(point[0],point[1],'bo')\n",
        "    plot_point(point,ang1[i]+ang2[i]+ang3[i],l3)\n",
        "    #plt.savefig(fileName)\n",
        "    #images.append(img.imread(fileName))\n",
        "    #c = c+1\n",
        "#time_elapsed = (time.clock() - time_start)\n",
        "#print(time_elapsed)   \n",
        "'''img.mimsave('Figure/animatecircle.gif',images) \n",
        "import glob, os\n",
        "for f in glob.glob(\"Figure/circle*.png\"):\n",
        "    os.remove(f)'''"
      ],
      "execution_count": null,
      "outputs": [
        {
          "output_type": "execute_result",
          "data": {
            "text/plain": [
              "'img.mimsave(\\'Figure/animatecircle.gif\\',images) \\nimport glob, os\\nfor f in glob.glob(\"Figure/circle*.png\"):\\n    os.remove(f)'"
            ]
          },
          "metadata": {
            "tags": []
          },
          "execution_count": 24
        },
        {
          "output_type": "display_data",
          "data": {
            "image/png": "[encoded data removed]",
            "text/plain": [
              "<Figure size 432x288 with 1 Axes>"
            ]
          },
          "metadata": {
            "tags": [],
            "needs_background": "light"
          }
        }
      ]
    },
    {
      "cell_type": "code",
      "metadata": {
        "id": "hEB1b1F4cUui"
      },
      "source": [
        ""
      ],
      "execution_count": null,
      "outputs": []
    }
  ]
}